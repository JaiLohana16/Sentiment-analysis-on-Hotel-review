{
 "cells": [
  {
   "cell_type": "code",
   "execution_count": 4,
   "metadata": {
    "id": "xRMHYDmDp9xf"
   },
   "outputs": [],
   "source": [
    "import pandas as pd\n",
    "import numpy as np\n",
    "import warnings\n",
    "warnings.filterwarnings('ignore')"
   ]
  },
  {
   "cell_type": "code",
   "execution_count": null,
   "metadata": {
    "colab": {
     "base_uri": "https://localhost:8080/"
    },
    "id": "Trc7mYs3qJN1",
    "outputId": "2d19de12-9354-485c-b11c-ce00f7c529b9"
   },
   "outputs": [
    {
     "name": "stdout",
     "output_type": "stream",
     "text": [
      "Drive already mounted at /content/drive; to attempt to forcibly remount, call drive.mount(\"/content/drive\", force_remount=True).\n"
     ]
    }
   ],
   "source": [
    "from google.colab import drive\n",
    "drive.mount('/content/drive')"
   ]
  },
  {
   "cell_type": "code",
   "execution_count": null,
   "metadata": {
    "id": "wdBTl9xYqZY4"
   },
   "outputs": [],
   "source": [
    "data1=pd.read_csv('/content/drive/MyDrive/tripadvisor_hotel_reviews.csv')"
   ]
  },
  {
   "cell_type": "markdown",
   "metadata": {},
   "source": [
    "For opening Dataset locally, uncomment the below line."
   ]
  },
  {
   "cell_type": "code",
   "execution_count": 5,
   "metadata": {},
   "outputs": [],
   "source": [
    "data1 = pd.read_csv(\"tripadvisor_hotel_reviews.csv\")"
   ]
  },
  {
   "cell_type": "code",
   "execution_count": 6,
   "metadata": {
    "colab": {
     "base_uri": "https://localhost:8080/",
     "height": 203
    },
    "id": "2EeNW_RuqZf8",
    "outputId": "7e45e2bf-65fd-45a8-afb0-0e0e053ad0cf"
   },
   "outputs": [
    {
     "data": {
      "text/html": [
       "<div>\n",
       "<style scoped>\n",
       "    .dataframe tbody tr th:only-of-type {\n",
       "        vertical-align: middle;\n",
       "    }\n",
       "\n",
       "    .dataframe tbody tr th {\n",
       "        vertical-align: top;\n",
       "    }\n",
       "\n",
       "    .dataframe thead th {\n",
       "        text-align: right;\n",
       "    }\n",
       "</style>\n",
       "<table border=\"1\" class=\"dataframe\">\n",
       "  <thead>\n",
       "    <tr style=\"text-align: right;\">\n",
       "      <th></th>\n",
       "      <th>Review</th>\n",
       "      <th>Rating</th>\n",
       "    </tr>\n",
       "  </thead>\n",
       "  <tbody>\n",
       "    <tr>\n",
       "      <th>0</th>\n",
       "      <td>nice hotel expensive parking got good deal sta...</td>\n",
       "      <td>4</td>\n",
       "    </tr>\n",
       "    <tr>\n",
       "      <th>1</th>\n",
       "      <td>ok nothing special charge diamond member hilto...</td>\n",
       "      <td>2</td>\n",
       "    </tr>\n",
       "    <tr>\n",
       "      <th>2</th>\n",
       "      <td>nice rooms not 4* experience hotel monaco seat...</td>\n",
       "      <td>3</td>\n",
       "    </tr>\n",
       "    <tr>\n",
       "      <th>3</th>\n",
       "      <td>unique, great stay, wonderful time hotel monac...</td>\n",
       "      <td>5</td>\n",
       "    </tr>\n",
       "    <tr>\n",
       "      <th>4</th>\n",
       "      <td>great stay great stay, went seahawk game aweso...</td>\n",
       "      <td>5</td>\n",
       "    </tr>\n",
       "  </tbody>\n",
       "</table>\n",
       "</div>"
      ],
      "text/plain": [
       "                                              Review  Rating\n",
       "0  nice hotel expensive parking got good deal sta...       4\n",
       "1  ok nothing special charge diamond member hilto...       2\n",
       "2  nice rooms not 4* experience hotel monaco seat...       3\n",
       "3  unique, great stay, wonderful time hotel monac...       5\n",
       "4  great stay great stay, went seahawk game aweso...       5"
      ]
     },
     "execution_count": 6,
     "metadata": {},
     "output_type": "execute_result"
    }
   ],
   "source": [
    "data1.head()"
   ]
  },
  {
   "cell_type": "code",
   "execution_count": 8,
   "metadata": {
    "id": "mVS07lzSqZib"
   },
   "outputs": [],
   "source": [
    "Response = []\n",
    "for row in data1['Rating']:\n",
    "  if row < 3:\n",
    "    Response.append('Not happy')\n",
    "  elif row == 3:\n",
    "    Response.append('Neutral')\n",
    "  else:\n",
    "    Response.append('Happy')"
   ]
  },
  {
   "cell_type": "code",
   "execution_count": 9,
   "metadata": {
    "id": "Qv41ABnfqZl6"
   },
   "outputs": [],
   "source": [
    "data1['Response'] = Response"
   ]
  },
  {
   "cell_type": "code",
   "execution_count": 10,
   "metadata": {
    "colab": {
     "base_uri": "https://localhost:8080/",
     "height": 203
    },
    "id": "VazfvU28qqIo",
    "outputId": "73d2bebb-191e-4ba2-bca7-65ef2e4e703b"
   },
   "outputs": [
    {
     "data": {
      "text/html": [
       "<div>\n",
       "<style scoped>\n",
       "    .dataframe tbody tr th:only-of-type {\n",
       "        vertical-align: middle;\n",
       "    }\n",
       "\n",
       "    .dataframe tbody tr th {\n",
       "        vertical-align: top;\n",
       "    }\n",
       "\n",
       "    .dataframe thead th {\n",
       "        text-align: right;\n",
       "    }\n",
       "</style>\n",
       "<table border=\"1\" class=\"dataframe\">\n",
       "  <thead>\n",
       "    <tr style=\"text-align: right;\">\n",
       "      <th></th>\n",
       "      <th>Review</th>\n",
       "      <th>Rating</th>\n",
       "      <th>Response</th>\n",
       "    </tr>\n",
       "  </thead>\n",
       "  <tbody>\n",
       "    <tr>\n",
       "      <th>0</th>\n",
       "      <td>nice hotel expensive parking got good deal sta...</td>\n",
       "      <td>4</td>\n",
       "      <td>Happy</td>\n",
       "    </tr>\n",
       "    <tr>\n",
       "      <th>1</th>\n",
       "      <td>ok nothing special charge diamond member hilto...</td>\n",
       "      <td>2</td>\n",
       "      <td>Not happy</td>\n",
       "    </tr>\n",
       "    <tr>\n",
       "      <th>2</th>\n",
       "      <td>nice rooms not 4* experience hotel monaco seat...</td>\n",
       "      <td>3</td>\n",
       "      <td>Neutral</td>\n",
       "    </tr>\n",
       "    <tr>\n",
       "      <th>3</th>\n",
       "      <td>unique, great stay, wonderful time hotel monac...</td>\n",
       "      <td>5</td>\n",
       "      <td>Happy</td>\n",
       "    </tr>\n",
       "    <tr>\n",
       "      <th>4</th>\n",
       "      <td>great stay great stay, went seahawk game aweso...</td>\n",
       "      <td>5</td>\n",
       "      <td>Happy</td>\n",
       "    </tr>\n",
       "  </tbody>\n",
       "</table>\n",
       "</div>"
      ],
      "text/plain": [
       "                                              Review  Rating   Response\n",
       "0  nice hotel expensive parking got good deal sta...       4      Happy\n",
       "1  ok nothing special charge diamond member hilto...       2  Not happy\n",
       "2  nice rooms not 4* experience hotel monaco seat...       3    Neutral\n",
       "3  unique, great stay, wonderful time hotel monac...       5      Happy\n",
       "4  great stay great stay, went seahawk game aweso...       5      Happy"
      ]
     },
     "execution_count": 10,
     "metadata": {},
     "output_type": "execute_result"
    }
   ],
   "source": [
    "data1.head()"
   ]
  },
  {
   "cell_type": "code",
   "execution_count": null,
   "metadata": {
    "id": "567yR9_tqqLD"
   },
   "outputs": [],
   "source": [
    "#Creating dictionary\n",
    "dict={'Happy':0,'Neutral':1,'Not happy':2}\n",
    "data1['Response_type']=data1['Response'].map(dict)"
   ]
  },
  {
   "cell_type": "code",
   "execution_count": null,
   "metadata": {
    "colab": {
     "base_uri": "https://localhost:8080/",
     "height": 511
    },
    "id": "fANYbmeVqqNu",
    "outputId": "c01438ab-5c8f-4046-82f5-3787e490caf5"
   },
   "outputs": [
    {
     "data": {
      "text/html": [
       "<div>\n",
       "<style scoped>\n",
       "    .dataframe tbody tr th:only-of-type {\n",
       "        vertical-align: middle;\n",
       "    }\n",
       "\n",
       "    .dataframe tbody tr th {\n",
       "        vertical-align: top;\n",
       "    }\n",
       "\n",
       "    .dataframe thead th {\n",
       "        text-align: right;\n",
       "    }\n",
       "</style>\n",
       "<table border=\"1\" class=\"dataframe\">\n",
       "  <thead>\n",
       "    <tr style=\"text-align: right;\">\n",
       "      <th></th>\n",
       "      <th>Review</th>\n",
       "      <th>Rating</th>\n",
       "      <th>Response</th>\n",
       "      <th>Response_type</th>\n",
       "    </tr>\n",
       "  </thead>\n",
       "  <tbody>\n",
       "    <tr>\n",
       "      <th>5340</th>\n",
       "      <td>perfect location berlin long weekend just retu...</td>\n",
       "      <td>5</td>\n",
       "      <td>Happy</td>\n",
       "      <td>0</td>\n",
       "    </tr>\n",
       "    <tr>\n",
       "      <th>18104</th>\n",
       "      <td>good location stayed 2 nights, room clean comf...</td>\n",
       "      <td>3</td>\n",
       "      <td>Neutral</td>\n",
       "      <td>1</td>\n",
       "    </tr>\n",
       "    <tr>\n",
       "      <th>16705</th>\n",
       "      <td>excellent, wife 21 month old stayed europa 3 n...</td>\n",
       "      <td>5</td>\n",
       "      <td>Happy</td>\n",
       "      <td>0</td>\n",
       "    </tr>\n",
       "    <tr>\n",
       "      <th>6717</th>\n",
       "      <td>dominican trip 4 writing reviewing dr 4 times,...</td>\n",
       "      <td>3</td>\n",
       "      <td>Neutral</td>\n",
       "      <td>1</td>\n",
       "    </tr>\n",
       "    <tr>\n",
       "      <th>9895</th>\n",
       "      <td>family birthday family brother 50th birthday p...</td>\n",
       "      <td>4</td>\n",
       "      <td>Happy</td>\n",
       "      <td>0</td>\n",
       "    </tr>\n",
       "    <tr>\n",
       "      <th>14961</th>\n",
       "      <td>definitely stay best things hotel stylish room...</td>\n",
       "      <td>5</td>\n",
       "      <td>Happy</td>\n",
       "      <td>0</td>\n",
       "    </tr>\n",
       "    <tr>\n",
       "      <th>1756</th>\n",
       "      <td>bargain stay sf car motor inn good choice car ...</td>\n",
       "      <td>3</td>\n",
       "      <td>Neutral</td>\n",
       "      <td>1</td>\n",
       "    </tr>\n",
       "    <tr>\n",
       "      <th>16245</th>\n",
       "      <td>good service great location fantastic pool sup...</td>\n",
       "      <td>5</td>\n",
       "      <td>Happy</td>\n",
       "      <td>0</td>\n",
       "    </tr>\n",
       "    <tr>\n",
       "      <th>18239</th>\n",
       "      <td>good value basic hotel waikiki aqua palms offe...</td>\n",
       "      <td>3</td>\n",
       "      <td>Neutral</td>\n",
       "      <td>1</td>\n",
       "    </tr>\n",
       "    <tr>\n",
       "      <th>15773</th>\n",
       "      <td>modern little young stayed new year, modern st...</td>\n",
       "      <td>4</td>\n",
       "      <td>Happy</td>\n",
       "      <td>0</td>\n",
       "    </tr>\n",
       "    <tr>\n",
       "      <th>6751</th>\n",
       "      <td>great resort, travelled cuba mexico twice punt...</td>\n",
       "      <td>5</td>\n",
       "      <td>Happy</td>\n",
       "      <td>0</td>\n",
       "    </tr>\n",
       "    <tr>\n",
       "      <th>6155</th>\n",
       "      <td>pay for.., cheap hotel exactly looking, honolu...</td>\n",
       "      <td>2</td>\n",
       "      <td>Not happy</td>\n",
       "      <td>2</td>\n",
       "    </tr>\n",
       "    <tr>\n",
       "      <th>14909</th>\n",
       "      <td>excellent great hotel great location helpful s...</td>\n",
       "      <td>4</td>\n",
       "      <td>Happy</td>\n",
       "      <td>0</td>\n",
       "    </tr>\n",
       "    <tr>\n",
       "      <th>17788</th>\n",
       "      <td>good vaction stayed dreams april 24th 29th.thi...</td>\n",
       "      <td>4</td>\n",
       "      <td>Happy</td>\n",
       "      <td>0</td>\n",
       "    </tr>\n",
       "    <tr>\n",
       "      <th>11760</th>\n",
       "      <td>loved hotel 41 trip new york wanted nice hotel...</td>\n",
       "      <td>5</td>\n",
       "      <td>Happy</td>\n",
       "      <td>0</td>\n",
       "    </tr>\n",
       "  </tbody>\n",
       "</table>\n",
       "</div>"
      ],
      "text/plain": [
       "                                                  Review  ...  Response_type\n",
       "5340   perfect location berlin long weekend just retu...  ...              0\n",
       "18104  good location stayed 2 nights, room clean comf...  ...              1\n",
       "16705  excellent, wife 21 month old stayed europa 3 n...  ...              0\n",
       "6717   dominican trip 4 writing reviewing dr 4 times,...  ...              1\n",
       "9895   family birthday family brother 50th birthday p...  ...              0\n",
       "14961  definitely stay best things hotel stylish room...  ...              0\n",
       "1756   bargain stay sf car motor inn good choice car ...  ...              1\n",
       "16245  good service great location fantastic pool sup...  ...              0\n",
       "18239  good value basic hotel waikiki aqua palms offe...  ...              1\n",
       "15773  modern little young stayed new year, modern st...  ...              0\n",
       "6751   great resort, travelled cuba mexico twice punt...  ...              0\n",
       "6155   pay for.., cheap hotel exactly looking, honolu...  ...              2\n",
       "14909  excellent great hotel great location helpful s...  ...              0\n",
       "17788  good vaction stayed dreams april 24th 29th.thi...  ...              0\n",
       "11760  loved hotel 41 trip new york wanted nice hotel...  ...              0\n",
       "\n",
       "[15 rows x 4 columns]"
      ]
     },
     "execution_count": 9,
     "metadata": {
      "tags": []
     },
     "output_type": "execute_result"
    }
   ],
   "source": [
    "data1.sample(15)"
   ]
  },
  {
   "cell_type": "code",
   "execution_count": null,
   "metadata": {
    "colab": {
     "base_uri": "https://localhost:8080/"
    },
    "id": "kOSMU8p_qqTP",
    "outputId": "1c659753-04b1-4fbe-cbd8-e21af20259eb"
   },
   "outputs": [
    {
     "name": "stdout",
     "output_type": "stream",
     "text": [
      "5    9054\n",
      "4    6039\n",
      "3    2184\n",
      "2    1793\n",
      "1    1421\n",
      "Name: Rating, dtype: int64\n"
     ]
    }
   ],
   "source": [
    "count = data1['Rating'].value_counts()\n",
    "print(count)"
   ]
  },
  {
   "cell_type": "code",
   "execution_count": null,
   "metadata": {
    "id": "1ZwZGV_KqqVl"
   },
   "outputs": [],
   "source": [
    "import matplotlib.pyplot as plt"
   ]
  },
  {
   "cell_type": "code",
   "execution_count": null,
   "metadata": {
    "colab": {
     "base_uri": "https://localhost:8080/",
     "height": 282
    },
    "id": "UayOVTFHqqX8",
    "outputId": "3d5e8df1-e004-4744-f464-98768f3c9679"
   },
   "outputs": [
    {
     "data": {
      "text/plain": [
       "<matplotlib.axes._subplots.AxesSubplot at 0x7f053c0dfc50>"
      ]
     },
     "execution_count": 12,
     "metadata": {
      "tags": []
     },
     "output_type": "execute_result"
    },
    {
     "data": {
      "image/png": "[encoded data removed]",
      "text/plain": [
       "<Figure size 432x288 with 1 Axes>"
      ]
     },
     "metadata": {
      "tags": []
     },
     "output_type": "display_data"
    }
   ],
   "source": [
    "count.plot()"
   ]
  },
  {
   "cell_type": "code",
   "execution_count": null,
   "metadata": {
    "colab": {
     "base_uri": "https://localhost:8080/"
    },
    "id": "wmKVecA63mWZ",
    "outputId": "e6bcbd95-64b7-4799-bb6d-68aee170518d"
   },
   "outputs": [
    {
     "name": "stdout",
     "output_type": "stream",
     "text": [
      "[nltk_data] Downloading package stopwords to /root/nltk_data...\n",
      "[nltk_data]   Package stopwords is already up-to-date!\n"
     ]
    },
    {
     "data": {
      "text/plain": [
       "True"
      ]
     },
     "execution_count": 7,
     "metadata": {
      "tags": []
     },
     "output_type": "execute_result"
    }
   ],
   "source": [
    "import nltk\n",
    "nltk.download('stopwords')"
   ]
  },
  {
   "cell_type": "code",
   "execution_count": null,
   "metadata": {
    "id": "L9eVFa7-3mbT"
   },
   "outputs": [],
   "source": [
    "from nltk.corpus import stopwords\n",
    "from nltk.stem.porter import PorterStemmer\n",
    "import re"
   ]
  },
  {
   "cell_type": "code",
   "execution_count": null,
   "metadata": {
    "id": "5ihfHorL3md3"
   },
   "outputs": [],
   "source": [
    "ps = PorterStemmer()\n",
    "corpus = []\n",
    "for i in range(0, len(data1)):\n",
    "  review = re.sub('[^a-zA-Z]', ' ', data1['Review'][i])\n",
    "  review = review.lower()\n",
    "  review = review.split()\n",
    "  review = [ps.stem(word) for word in review if not word in stopwords.words('english')]\n",
    "  review = ' '.join(review)\n",
    "  corpus.append(review)"
   ]
  },
  {
   "cell_type": "code",
   "execution_count": null,
   "metadata": {
    "id": "SQC37zYmqq4C"
   },
   "outputs": [],
   "source": [
    "#Function for removing special characters\n",
    "def remove_special_chars(text):\n",
    "  for remove in map(lambda r: re.compile(re.escape(r)), [',', ':', \"=\", \"&\", \";\", '%', '$','@', '%', '^', '*', '(',')', '{', '}','[', ']', '|', '/', '\\\\', '>', '<', '-','!', '?', '.', \"'\",' — ', ' — — ', '#',\"’ \" ,'\\\"']):\n",
    "    text.replace(remove, '', inplace=True)\n",
    "  return text\n",
    "\n",
    "#Function for removing tags\n",
    "def remove_tags(text):\n",
    "  return re.compile( r\" <[^>]+> \").sub(\" \", text)\n",
    "\n",
    "#Function for removing numbers\n",
    "def remove_num(text):\n",
    "  return ''.join(re.sub(r'([0–9+])',' ' ,text))"
   ]
  },
  {
   "cell_type": "code",
   "execution_count": null,
   "metadata": {
    "id": "C1OCWqoWqq6q"
   },
   "outputs": [],
   "source": [
    "final_data=data1.copy( )"
   ]
  },
  {
   "cell_type": "code",
   "execution_count": null,
   "metadata": {
    "id": "Alh_tBahqq9E"
   },
   "outputs": [],
   "source": [
    "final_data.Review=final_data.Review.apply(lambda x : remove_tags(x))"
   ]
  },
  {
   "cell_type": "code",
   "execution_count": null,
   "metadata": {
    "id": "ZV_IT-uRqq_n"
   },
   "outputs": [],
   "source": [
    "final_data.Review=final_data.Review.apply(lambda x : remove_num(x))"
   ]
  },
  {
   "cell_type": "code",
   "execution_count": null,
   "metadata": {
    "colab": {
     "base_uri": "https://localhost:8080/"
    },
    "id": "_hAarBXFqrCZ",
    "outputId": "fa53dca6-b3b7-4913-cf4e-2dd09ef9dae6"
   },
   "outputs": [
    {
     "data": {
      "text/plain": [
       "0        nice hotel expensive parking got good deal sta...\n",
       "1        ok nothing special charge diamond member hilto...\n",
       "2        nice rooms not 4 experience hotel monaco seatt...\n",
       "3        unique great stay wonderful time hotel monaco ...\n",
       "4        great stay great stay went seahawk game awesom...\n",
       "                               ...                        \n",
       "20486    best kept secret 3rd time staying charm not 5s...\n",
       "20487    great location price view hotel great quick pl...\n",
       "20488    ok just looks nice modern outside desk staff n...\n",
       "20489    hotel theft ruined vacation hotel opened sept ...\n",
       "20490    people talking ca nt believe excellent ratings...\n",
       "Name: Review, Length: 20491, dtype: object"
      ]
     },
     "execution_count": 14,
     "metadata": {
      "tags": []
     },
     "output_type": "execute_result"
    }
   ],
   "source": [
    "remove_special_chars(final_data.Review)"
   ]
  },
  {
   "cell_type": "code",
   "execution_count": null,
   "metadata": {
    "id": "iNvAgDPBqqav"
   },
   "outputs": [],
   "source": [
    "from sklearn.feature_extraction.text import TfidfVectorizer\n",
    "from sklearn.model_selection import train_test_split\n",
    "from sklearn.svm import LinearSVC\n",
    "from sklearn.metrics import classification_report\n",
    "tfidf = TfidfVectorizer(max_features=40000, ngram_range=(1,5), analyzer='char')"
   ]
  },
  {
   "cell_type": "code",
   "execution_count": null,
   "metadata": {
    "id": "FDlxOlNfqqc5"
   },
   "outputs": [],
   "source": [
    "x = tfidf.fit_transform(final_data['Review'])\n",
    "y = data1['Rating']\n",
    "z = data1['Response']\n",
    "x_train, x_test, y_train, y_test,z_train, z_test = train_test_split(x,y,z,test_size = 0.2, random_state = 0)"
   ]
  },
  {
   "cell_type": "markdown",
   "metadata": {
    "id": "ilwZ55d3tp-6"
   },
   "source": [
    " **Linear** **SVC**"
   ]
  },
  {
   "cell_type": "code",
   "execution_count": null,
   "metadata": {
    "colab": {
     "base_uri": "https://localhost:8080/"
    },
    "id": "BYeI0_MUqqiR",
    "outputId": "d2c00479-1d03-4838-ab0e-741ccc1bd7d3"
   },
   "outputs": [
    {
     "data": {
      "text/plain": [
       "0.8526469870700171"
      ]
     },
     "execution_count": 17,
     "metadata": {
      "tags": []
     },
     "output_type": "execute_result"
    }
   ],
   "source": [
    "clf =LinearSVC(C = 1,class_weight='balanced')\n",
    "clf.fit(x_train,z_train)\n",
    "clf.score(x_test,z_test)"
   ]
  },
  {
   "cell_type": "markdown",
   "metadata": {
    "id": "pIT9uIYYt-sj"
   },
   "source": [
    "**Logistic Regression**"
   ]
  },
  {
   "cell_type": "code",
   "execution_count": null,
   "metadata": {
    "colab": {
     "base_uri": "https://localhost:8080/"
    },
    "id": "R9Ood9I8qqlB",
    "outputId": "dc86fa66-9f8e-4a99-f3f5-f5b66387f838"
   },
   "outputs": [
    {
     "data": {
      "text/plain": [
       "0.8511832154183947"
      ]
     },
     "execution_count": 18,
     "metadata": {
      "tags": []
     },
     "output_type": "execute_result"
    }
   ],
   "source": [
    "from sklearn.linear_model import LogisticRegression\n",
    "lr = LogisticRegression()\n",
    "lr.fit(x_train,z_train)\n",
    "lr.score(x_test,z_test)"
   ]
  },
  {
   "cell_type": "markdown",
   "metadata": {
    "id": "EcTnoVAJuPLg"
   },
   "source": [
    "**Decision** **Tree** **Classifier**"
   ]
  },
  {
   "cell_type": "code",
   "execution_count": null,
   "metadata": {
    "colab": {
     "base_uri": "https://localhost:8080/"
    },
    "id": "YdCMGHvUqqnI",
    "outputId": "7e6ac7b5-9fbf-4d5f-f205-e80ca3d98824"
   },
   "outputs": [
    {
     "data": {
      "text/plain": [
       "0.6994388875335448"
      ]
     },
     "execution_count": 19,
     "metadata": {
      "tags": []
     },
     "output_type": "execute_result"
    }
   ],
   "source": [
    "from sklearn.tree import DecisionTreeClassifier\n",
    "dt=DecisionTreeClassifier()\n",
    "dt.fit(x_train,z_train)\n",
    "dt.score(x_test,z_test)"
   ]
  },
  {
   "cell_type": "markdown",
   "metadata": {
    "id": "ZZg_O-Vcp9hc"
   },
   "source": [
    "**Random Forest Classifier**"
   ]
  },
  {
   "cell_type": "code",
   "execution_count": null,
   "metadata": {
    "colab": {
     "base_uri": "https://localhost:8080/"
    },
    "id": "pfOOiUJVon8f",
    "outputId": "b0d5fa4c-d9c5-42b8-d371-2fda94d31c2d"
   },
   "outputs": [
    {
     "data": {
      "text/plain": [
       "0.8040985606245425"
      ]
     },
     "execution_count": 20,
     "metadata": {
      "tags": []
     },
     "output_type": "execute_result"
    }
   ],
   "source": [
    "from sklearn.ensemble import RandomForestClassifier\n",
    "rf=RandomForestClassifier()\n",
    "rf.fit(x_train,z_train)\n",
    "rf.score(x_test,z_test)"
   ]
  },
  {
   "cell_type": "markdown",
   "metadata": {
    "id": "vy_zcdwb0BCg"
   },
   "source": [
    "**Naive** **Bayes**"
   ]
  },
  {
   "cell_type": "code",
   "execution_count": null,
   "metadata": {
    "colab": {
     "base_uri": "https://localhost:8080/"
    },
    "id": "pmboAfXWqqvz",
    "outputId": "cedabcf0-f8d1-4065-e8b4-9505d273d919"
   },
   "outputs": [
    {
     "data": {
      "text/plain": [
       "0.7782385947792144"
      ]
     },
     "execution_count": 27,
     "metadata": {
      "tags": []
     },
     "output_type": "execute_result"
    }
   ],
   "source": [
    "from sklearn.naive_bayes import MultinomialNB\n",
    "nb=MultinomialNB()\n",
    "nb.fit(x_train,z_train)\n",
    "nb.score(x_test,z_test)"
   ]
  },
  {
   "cell_type": "markdown",
   "metadata": {
    "id": "LwmrCIK1JqHI"
   },
   "source": [
    "**HyperParameter Tunning Using GridSearchCV**"
   ]
  },
  {
   "cell_type": "code",
   "execution_count": null,
   "metadata": {
    "id": "DQGKdlH3tKwl"
   },
   "outputs": [],
   "source": [
    "model_params = {\n",
    "    'svm': {\n",
    "        'model': LinearSVC(),\n",
    "        'params' : {\n",
    "            'C': [1,10,20],\n",
    "            \n",
    "        }  \n",
    "    },\n",
    "    'random_forest': {\n",
    "        'model': RandomForestClassifier(),\n",
    "        'params' : {\n",
    "            'n_estimators': [1,5,10,100]\n",
    "        }\n",
    "    },\n",
    "    'logistic_regression' : {\n",
    "        'model': LogisticRegression(solver='liblinear',multi_class='auto'),\n",
    "        'params': {\n",
    "            'C': [1,5,10]\n",
    "        }\n",
    "    }\n",
    "}\n"
   ]
  },
  {
   "cell_type": "code",
   "execution_count": null,
   "metadata": {
    "colab": {
     "background_save": true
    },
    "id": "oXGkZFpTxFV9",
    "outputId": "172f5517-418b-49bd-8f64-32ceb6a75cb7"
   },
   "outputs": [
    {
     "data": {
      "text/html": [
       "<div>\n",
       "<style scoped>\n",
       "    .dataframe tbody tr th:only-of-type {\n",
       "        vertical-align: middle;\n",
       "    }\n",
       "\n",
       "    .dataframe tbody tr th {\n",
       "        vertical-align: top;\n",
       "    }\n",
       "\n",
       "    .dataframe thead th {\n",
       "        text-align: right;\n",
       "    }\n",
       "</style>\n",
       "<table border=\"1\" class=\"dataframe\">\n",
       "  <thead>\n",
       "    <tr style=\"text-align: right;\">\n",
       "      <th></th>\n",
       "      <th>model</th>\n",
       "      <th>best_score</th>\n",
       "      <th>best_params</th>\n",
       "    </tr>\n",
       "  </thead>\n",
       "  <tbody>\n",
       "    <tr>\n",
       "      <th>0</th>\n",
       "      <td>svm</td>\n",
       "      <td>0.862677</td>\n",
       "      <td>{'C': 1}</td>\n",
       "    </tr>\n",
       "    <tr>\n",
       "      <th>1</th>\n",
       "      <td>random_forest</td>\n",
       "      <td>0.805332</td>\n",
       "      <td>{'n_estimators': 100}</td>\n",
       "    </tr>\n",
       "    <tr>\n",
       "      <th>2</th>\n",
       "      <td>logistic_regression</td>\n",
       "      <td>0.862555</td>\n",
       "      <td>{'C': 10}</td>\n",
       "    </tr>\n",
       "  </tbody>\n",
       "</table>\n",
       "</div>"
      ],
      "text/plain": [
       "                 model  best_score            best_params\n",
       "0                  svm    0.862677               {'C': 1}\n",
       "1        random_forest    0.805332  {'n_estimators': 100}\n",
       "2  logistic_regression    0.862555              {'C': 10}"
      ]
     },
     "execution_count": 0,
     "metadata": {
      "tags": []
     },
     "output_type": "execute_result"
    }
   ],
   "source": [
    "scores = []\n",
    "best_estimators = {}\n",
    "from sklearn.model_selection import GridSearchCV\n",
    "for model_name, mp in model_params.items():\n",
    "    clf =  GridSearchCV(mp['model'], mp['params'], cv=5, return_train_score=False)\n",
    "    clf.fit(x_train, z_train)\n",
    "    scores.append({\n",
    "        'model': model_name,\n",
    "        'best_score': clf.best_score_,\n",
    "        'best_params': clf.best_params_\n",
    "    })\n",
    "    best_estimators[model_name] = clf.best_estimator_\n",
    "df = pd.DataFrame(scores,columns=['model','best_score','best_params'])\n",
    "df"
   ]
  },
  {
   "cell_type": "code",
   "execution_count": null,
   "metadata": {
    "colab": {
     "base_uri": "https://localhost:8080/"
    },
    "id": "OCfBDSJ1FjrL",
    "outputId": "b9cbb9b3-510a-4410-acaa-3da09971a129"
   },
   "outputs": [
    {
     "data": {
      "text/plain": [
       "0.8636252744571847"
      ]
     },
     "execution_count": 29,
     "metadata": {
      "tags": []
     },
     "output_type": "execute_result"
    }
   ],
   "source": [
    "best_estimators['svm'].score(x_test,z_test)"
   ]
  },
  {
   "cell_type": "code",
   "execution_count": null,
   "metadata": {
    "colab": {
     "base_uri": "https://localhost:8080/"
    },
    "id": "r946ztbxTP81",
    "outputId": "644693a3-ad29-481e-b3b1-e64415b65496"
   },
   "outputs": [
    {
     "data": {
      "text/plain": [
       "0.8621615028055624"
      ]
     },
     "execution_count": 27,
     "metadata": {
      "tags": []
     },
     "output_type": "execute_result"
    }
   ],
   "source": [
    "best_estimators['logistic_regression'].score(x_test,z_test)"
   ]
  },
  {
   "cell_type": "markdown",
   "metadata": {
    "id": "kZPp75IqJ9Y8"
   },
   "source": [
    "**HyperParameter Tunning for Naive Bayes**"
   ]
  },
  {
   "cell_type": "code",
   "execution_count": null,
   "metadata": {
    "id": "981G75ep8cwv"
   },
   "outputs": [],
   "source": [
    "import sklearn.metrics as metrics\n",
    "hyper_classifier=MultinomialNB(alpha=0.1)\n",
    "previous_score=0\n",
    "for alpha in np.arange(0,1,0.1):\n",
    "  sub_classifier=MultinomialNB(alpha=alpha)\n",
    "  sub_classifier.fit(x_train,z_train)\n",
    "  y_pred=sub_classifier.predict(x_test)\n",
    "  score = metrics.accuracy_score(z_test, y_pred)\n",
    "  if score>previous_score:\n",
    "    hyper_classifier=sub_classifier\n",
    "    print(\"Alpha: {}, Score : {}\".format(alpha,score))"
   ]
  },
  {
   "cell_type": "code",
   "execution_count": null,
   "metadata": {
    "id": "ZfqJKtRLqq1S"
   },
   "outputs": [],
   "source": [
    "y_pred = clf.predict(x_test)\n",
    "print(y_pred)\n",
    "print(classification_report(z_test, y_pred))"
   ]
  },
  {
   "cell_type": "code",
   "execution_count": null,
   "metadata": {
    "id": "ecU9BVoVqh5g"
   },
   "outputs": [],
   "source": [
    "import seaborn as sns"
   ]
  },
  {
   "cell_type": "code",
   "execution_count": null,
   "metadata": {
    "id": "y7plD-cWFUGl"
   },
   "outputs": [],
   "source": [
    "from sklearn.metrics import confusion_matrix\n",
    "cm = confusion_matrix(z_test, y_pred)"
   ]
  },
  {
   "cell_type": "code",
   "execution_count": null,
   "metadata": {
    "id": "B3-3jBhJDdK9"
   },
   "outputs": [],
   "source": [
    "sns.heatmap(cm, annot = True,cmap=\"Blues\", fmt='.1f')\n",
    "plt.xlabel('Predicted')\n",
    "plt.ylabel('Truth')"
   ]
  },
  {
   "cell_type": "markdown",
   "metadata": {
    "id": "wZRe1UXA1dOx"
   },
   "source": [
    "**Deep** **Learning**"
   ]
  },
  {
   "cell_type": "code",
   "execution_count": null,
   "metadata": {
    "id": "p8Mnvnu4qrFH"
   },
   "outputs": [],
   "source": [
    "from keras.preprocessing.text import Tokenizer"
   ]
  },
  {
   "cell_type": "code",
   "execution_count": null,
   "metadata": {
    "id": "cNRQfEzmqrHt"
   },
   "outputs": [],
   "source": [
    "tokenizer = Tokenizer(num_words=5000,filters='!”#$%&()*+,-./:;<=>?@[\\\\]^_`{|}~\\t\\n',lower=True,split=' ')"
   ]
  },
  {
   "cell_type": "code",
   "execution_count": null,
   "metadata": {
    "id": "o6JwupiQqrKt"
   },
   "outputs": [],
   "source": [
    "tokenizer.fit_on_texts(final_data[\"Review\"])\n"
   ]
  },
  {
   "cell_type": "code",
   "execution_count": null,
   "metadata": {
    "id": "gmUmAnORqrNN"
   },
   "outputs": [],
   "source": [
    "X = tokenizer.texts_to_sequences(final_data[\"Review\"])"
   ]
  },
  {
   "cell_type": "code",
   "execution_count": null,
   "metadata": {
    "id": "o8aDcepiqrQS"
   },
   "outputs": [],
   "source": [
    "from keras.preprocessing.sequence import pad_sequences\n",
    "X= pad_sequences(X,maxlen=100,padding='post')\n",
    "y= final_data['Response_type']"
   ]
  },
  {
   "cell_type": "code",
   "execution_count": null,
   "metadata": {
    "id": "yRMd2PxYqrS1"
   },
   "outputs": [],
   "source": [
    "X[500]"
   ]
  },
  {
   "cell_type": "code",
   "execution_count": null,
   "metadata": {
    "id": "mRA7g7vkqrVh"
   },
   "outputs": [],
   "source": [
    "vocab_size = len(tokenizer.word_index) + 1\n",
    "vocab_size"
   ]
  },
  {
   "cell_type": "code",
   "execution_count": null,
   "metadata": {
    "id": "90CAk966qrZA"
   },
   "outputs": [],
   "source": [
    "X_train, X_test, Y_train, Y_test = train_test_split(X, y, test_size=0.3, random_state = 24)"
   ]
  },
  {
   "cell_type": "markdown",
   "metadata": {
    "id": "rrP9pDRV76Tp"
   },
   "source": [
    "**Building single layer** **LSTM** **cell** **for** **training** "
   ]
  },
  {
   "cell_type": "code",
   "execution_count": null,
   "metadata": {
    "id": "SnxZjnzi70-L"
   },
   "outputs": [],
   "source": [
    "from keras.models import Sequential\n",
    "from keras.layers import Embedding\n",
    "from keras.layers.core import Dense\n",
    "from keras.layers.recurrent import LSTM"
   ]
  },
  {
   "cell_type": "code",
   "execution_count": null,
   "metadata": {
    "id": "bcgjjxD271J2"
   },
   "outputs": [],
   "source": [
    "embedding_vector_features=40\n",
    "model=Sequential()\n",
    "model.add(Embedding(vocab_size,embedding_vector_features,input_length=100))\n",
    "model.add(LSTM(100))\n",
    "model.add(Dense(1,activation='sigmoid'))"
   ]
  },
  {
   "cell_type": "code",
   "execution_count": null,
   "metadata": {
    "id": "yGGDrV0571MQ"
   },
   "outputs": [],
   "source": [
    "model.compile(loss='binary_crossentropy',optimizer='adam',metrics=['accuracy'])\n",
    "print(model.summary())"
   ]
  },
  {
   "cell_type": "code",
   "execution_count": null,
   "metadata": {
    "id": "8krjmHnA71On"
   },
   "outputs": [],
   "source": [
    "model.fit(X_train, Y_train, batch_size=32, epochs=20, validation_data=(X_test, Y_test), )"
   ]
  },
  {
   "cell_type": "code",
   "execution_count": null,
   "metadata": {
    "id": "hfx25P8HsrHZ"
   },
   "outputs": [],
   "source": [
    "pip install gradio"
   ]
  },
  {
   "cell_type": "code",
   "execution_count": null,
   "metadata": {
    "id": "XZYwF-Nj8XYO"
   },
   "outputs": [],
   "source": [
    "import gradio as gr\n",
    "\n",
    "def function(Review):\n",
    "  vec = tfidf.transform([Review])  \n",
    "  return \"The user's review suggest that user is feeling \"+ lr.predict(vec)\n",
    "               \n",
    "\n",
    "iface = gr.Interface(fn=function, inputs=\"text\", outputs=\"text\")\n",
    "iface.launch(share=True)"
   ]
  },
  {
   "cell_type": "code",
   "execution_count": null,
   "metadata": {
    "id": "WTRUMgin8Xa4"
   },
   "outputs": [],
   "source": []
  }
 ],
 "metadata": {
  "colab": {
   "collapsed_sections": [],
   "name": "Sentiment_Analysis_for_Hotel_Review.ipynb",
   "provenance": []
  },
  "kernelspec": {
   "display_name": "Python 3",
   "language": "python",
   "name": "python3"
  },
  "language_info": {
   "codemirror_mode": {
    "name": "ipython",
    "version": 3
   },
   "file_extension": ".py",
   "mimetype": "text/x-python",
   "name": "python",
   "nbconvert_exporter": "python",
   "pygments_lexer": "ipython3",
   "version": "3.9.5"
  }
 },
 "nbformat": 4,
 "nbformat_minor": 1
}
